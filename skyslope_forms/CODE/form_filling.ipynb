{
 "cells": [
  {
   "cell_type": "code",
   "execution_count": 3,
   "metadata": {},
   "outputs": [],
   "source": [
    "import os\n",
    "import sys\n",
    "\n",
    "working_dir = '/Users/amitshendge/Documents/Real-Estate-Bot'"
   ]
  },
  {
   "cell_type": "code",
   "execution_count": 3,
   "metadata": {},
   "outputs": [
    {
     "name": "stdout",
     "output_type": "stream",
     "text": [
      "Collecting fillpdf\n",
      "  Using cached fillpdf-0.7.3-py3-none-any.whl.metadata (15 kB)\n",
      "Collecting pdfrw2 (from fillpdf)\n",
      "  Using cached pdfrw2-0.5.0-py2.py3-none-any.whl.metadata (33 kB)\n",
      "Collecting pdf2image (from fillpdf)\n",
      "  Using cached pdf2image-1.17.0-py3-none-any.whl.metadata (6.2 kB)\n",
      "Requirement already satisfied: Pillow in /Users/amitshendge/Downloads/my_rasa/venv/lib/python3.8/site-packages (from fillpdf) (10.4.0)\n",
      "Collecting pymupdf (from fillpdf)\n",
      "  Downloading PyMuPDF-1.24.11-cp38-abi3-macosx_10_9_x86_64.whl.metadata (3.4 kB)\n",
      "Using cached fillpdf-0.7.3-py3-none-any.whl (15 kB)\n",
      "Using cached pdf2image-1.17.0-py3-none-any.whl (11 kB)\n",
      "Using cached pdfrw2-0.5.0-py2.py3-none-any.whl (60 kB)\n",
      "Downloading PyMuPDF-1.24.11-cp38-abi3-macosx_10_9_x86_64.whl (18.9 MB)\n",
      "\u001b[2K   \u001b[90m━━━━━━━━━━━━━━━━━━━━━━━━━━━━━━━━━━━━━━━━\u001b[0m \u001b[32m18.9/18.9 MB\u001b[0m \u001b[31m18.0 MB/s\u001b[0m eta \u001b[36m0:00:00\u001b[0m00:01\u001b[0m00:01\u001b[0m\n",
      "\u001b[?25hInstalling collected packages: pdfrw2, pymupdf, pdf2image, fillpdf\n",
      "Successfully installed fillpdf-0.7.3 pdf2image-1.17.0 pdfrw2-0.5.0 pymupdf-1.24.11\n"
     ]
    }
   ],
   "source": [
    "!pip install fillpdf\n"
   ]
  },
  {
   "cell_type": "code",
   "execution_count": 8,
   "metadata": {},
   "outputs": [],
   "source": [
    "from fillpdf import fillpdfs\n",
    "import os\n",
    "\n",
    "def fill_pdf(pdf_path, output_path, feild_values):\n",
    "    fillpdfs.write_fillable_pdf(pdf_path, output_path, feild_values)\n",
    "    fillpdfs.flatten_pdf(output_path, output_path.replace(os.path.basename(output_path), \"flatten_\"+os.path.basename(output_path)))\n",
    "\n",
    "pdf_path = '/Users/amitshendge/Downloads/my_rasa/skyslope_forms/FORMS/form_feilds_NAVAR/Addendum Lease - K1384.pdf'\n",
    "output_path = 'filled.pdf'\n",
    "feild_values = {\n",
    "    \"Text-kzHMlRY_at\": \"12/12/2020\",\n",
    "    \"Text-kZYaiuaRuw\": \"12/12/2020\",\n",
    "    \"Text-4DFQAdVBZR\": \"Amit Shendge\",\n",
    "    \"Text-WxlAxbTDdW\": \"John Doe\",\n",
    "    \"Text-GAG2V9dFf9\": \"123 Main St\",\n",
    "    \"Text-2BB3Zqmbsv\": \"Apt 1\"\n",
    "}\n",
    "\n",
    "fill_pdf(pdf_path, output_path, feild_values)"
   ]
  },
  {
   "cell_type": "code",
   "execution_count": 4,
   "metadata": {},
   "outputs": [
    {
     "name": "stdout",
     "output_type": "stream",
     "text": [
      "Fill the form fields based on the descriptions:\n",
      "PDF saved to filled_form.pdf\n"
     ]
    }
   ],
   "source": [
    "import json\n",
    "from PyPDF2 import PdfReader, PdfWriter\n",
    "from PyPDF2.generic import NameObject, TextStringObject\n",
    "\n",
    "class PDFFormFiller:\n",
    "    def __init__(self, pdf_path, json_path):\n",
    "        self.pdf_path = pdf_path\n",
    "        self.json_path = json_path\n",
    "        self.field_mapping = self._load_field_mapping()\n",
    "        self.field_values = {}\n",
    "\n",
    "    def _load_field_mapping(self):\n",
    "        \"\"\"Load field mapping from JSON file.\"\"\"\n",
    "        with open(self.json_path, 'r') as file:\n",
    "            return json.load(file)\n",
    "\n",
    "    def display_and_fill_fields(self):\n",
    "        \"\"\"\n",
    "        Interact with the user to fill the fields.\n",
    "        This acts as a chatbot that asks for values based on descriptions.\n",
    "        \"\"\"\n",
    "        print(\"Fill the form fields based on the descriptions:\")\n",
    "        for description, field_name in self.field_mapping.items():\n",
    "            value = input(f\"{description}: \")\n",
    "            self.field_values[field_name] = value\n",
    "\n",
    "    def fill_pdf_fields(self):\n",
    "        \"\"\"Fill the fields in the PDF with provided values.\"\"\"\n",
    "        reader = PdfReader(self.pdf_path)\n",
    "        writer = PdfWriter()\n",
    "\n",
    "        for page in reader.pages:\n",
    "            writer.add_page(page)\n",
    "\n",
    "        # Access form fields\n",
    "        fields = reader.get_fields()\n",
    "        for field_name, value in self.field_values.items():\n",
    "            if field_name in fields:\n",
    "                fields[field_name].update({NameObject(\"/V\"): TextStringObject(value)})\n",
    "\n",
    "        # Update the writer with the filled fields\n",
    "        writer.update_page_form_field_values(writer.pages[0], self.field_values)\n",
    "\n",
    "        self.writer = writer  # Store the writer for saving later\n",
    "\n",
    "    def save_pdf(self, output_path):\n",
    "        \"\"\"Save the filled PDF to the specified path.\"\"\"\n",
    "        if not hasattr(self, 'writer'):\n",
    "            raise ValueError(\"No writer available. Ensure fields are filled before saving.\")\n",
    "        \n",
    "        with open(output_path, \"wb\") as file:\n",
    "            self.writer.write(file)\n",
    "        print(f\"PDF saved to {output_path}\")\n",
    "\n",
    "# Example usage\n",
    "if __name__ == \"__main__\":\n",
    "    pdf_path = os.path.join(working_dir,\"skyslope_forms/FORMS/form_feilds_NAVAR/Addendum Lease - K1384.pdf\")\n",
    "    json_path = os.path.join(working_dir,\"skyslope_forms/form_feilds_mapping/Addendum Lease - K1384.json\")\n",
    "    output_path = \"filled_form.pdf\"\n",
    "\n",
    "    pdf_filler = PDFFormFiller(pdf_path, json_path)\n",
    "    pdf_filler.display_and_fill_fields()\n",
    "    pdf_filler.fill_pdf_fields()\n",
    "    pdf_filler.save_pdf(output_path)\n"
   ]
  },
  {
   "cell_type": "code",
   "execution_count": 1,
   "metadata": {},
   "outputs": [
    {
     "name": "stdout",
     "output_type": "stream",
     "text": [
      "Collecting rasa\n",
      "  Using cached rasa-1.10.2-py3-none-any.whl.metadata (14 kB)\n",
      "Collecting PyJWT<1.8,>=1.7 (from rasa)\n",
      "  Using cached PyJWT-1.7.1-py2.py3-none-any.whl.metadata (3.9 kB)\n",
      "Collecting SQLAlchemy<1.4.0,>=1.3.3 (from rasa)\n",
      "  Using cached SQLAlchemy-1.3.24.tar.gz (6.4 MB)\n",
      "  Preparing metadata (setup.py) ... \u001b[?25ldone\n",
      "\u001b[?25hCollecting absl-py<0.10,>=0.9 (from rasa)\n",
      "  Using cached absl-py-0.9.0.tar.gz (104 kB)\n",
      "  Preparing metadata (setup.py) ... \u001b[?25ldone\n",
      "\u001b[?25hCollecting aiohttp<3.7,>=3.6 (from rasa)\n",
      "  Downloading aiohttp-3.6.3.tar.gz (1.1 MB)\n",
      "\u001b[2K     \u001b[90m━━━━━━━━━━━━━━━━━━━━━━━━━━━━━━━━━━━━━━━━\u001b[0m \u001b[32m1.1/1.1 MB\u001b[0m \u001b[31m7.2 MB/s\u001b[0m eta \u001b[36m0:00:00\u001b[0ma \u001b[36m0:00:01\u001b[0m0m\n",
      "\u001b[?25h  Installing build dependencies ... \u001b[?25ldone\n",
      "\u001b[?25h  Getting requirements to build wheel ... \u001b[?25ldone\n",
      "\u001b[?25h  Installing backend dependencies ... \u001b[?25ldone\n",
      "\u001b[?25h  Preparing metadata (pyproject.toml) ... \u001b[?25lerror\n",
      "  \u001b[1;31merror\u001b[0m: \u001b[1msubprocess-exited-with-error\u001b[0m\n",
      "  \n",
      "  \u001b[31m×\u001b[0m \u001b[32mPreparing metadata \u001b[0m\u001b[1;32m(\u001b[0m\u001b[32mpyproject.toml\u001b[0m\u001b[1;32m)\u001b[0m did not run successfully.\n",
      "  \u001b[31m│\u001b[0m exit code: \u001b[1;36m1\u001b[0m\n",
      "  \u001b[31m╰─>\u001b[0m \u001b[31m[22 lines of output]\u001b[0m\n",
      "  \u001b[31m   \u001b[0m running dist_info\n",
      "  \u001b[31m   \u001b[0m creating /private/var/folders/cp/kx7p5wds2blfcg2r476pvyy80000gn/T/pip-modern-metadata-vs0f3yx9/aiohttp.egg-info\n",
      "  \u001b[31m   \u001b[0m writing /private/var/folders/cp/kx7p5wds2blfcg2r476pvyy80000gn/T/pip-modern-metadata-vs0f3yx9/aiohttp.egg-info/PKG-INFO\n",
      "  \u001b[31m   \u001b[0m writing dependency_links to /private/var/folders/cp/kx7p5wds2blfcg2r476pvyy80000gn/T/pip-modern-metadata-vs0f3yx9/aiohttp.egg-info/dependency_links.txt\n",
      "  \u001b[31m   \u001b[0m writing requirements to /private/var/folders/cp/kx7p5wds2blfcg2r476pvyy80000gn/T/pip-modern-metadata-vs0f3yx9/aiohttp.egg-info/requires.txt\n",
      "  \u001b[31m   \u001b[0m writing top-level names to /private/var/folders/cp/kx7p5wds2blfcg2r476pvyy80000gn/T/pip-modern-metadata-vs0f3yx9/aiohttp.egg-info/top_level.txt\n",
      "  \u001b[31m   \u001b[0m writing manifest file '/private/var/folders/cp/kx7p5wds2blfcg2r476pvyy80000gn/T/pip-modern-metadata-vs0f3yx9/aiohttp.egg-info/SOURCES.txt'\n",
      "  \u001b[31m   \u001b[0m reading manifest file '/private/var/folders/cp/kx7p5wds2blfcg2r476pvyy80000gn/T/pip-modern-metadata-vs0f3yx9/aiohttp.egg-info/SOURCES.txt'\n",
      "  \u001b[31m   \u001b[0m reading manifest template 'MANIFEST.in'\n",
      "  \u001b[31m   \u001b[0m warning: no files found matching 'aiohttp' anywhere in distribution\n",
      "  \u001b[31m   \u001b[0m warning: no previously-included files matching '*.pyc' found anywhere in distribution\n",
      "  \u001b[31m   \u001b[0m warning: no previously-included files matching '*.pyd' found anywhere in distribution\n",
      "  \u001b[31m   \u001b[0m warning: no previously-included files matching '*.so' found anywhere in distribution\n",
      "  \u001b[31m   \u001b[0m warning: no previously-included files matching '*.lib' found anywhere in distribution\n",
      "  \u001b[31m   \u001b[0m warning: no previously-included files matching '*.dll' found anywhere in distribution\n",
      "  \u001b[31m   \u001b[0m warning: no previously-included files matching '*.a' found anywhere in distribution\n",
      "  \u001b[31m   \u001b[0m warning: no previously-included files matching '*.obj' found anywhere in distribution\n",
      "  \u001b[31m   \u001b[0m warning: no previously-included files found matching 'aiohttp/*.html'\n",
      "  \u001b[31m   \u001b[0m no previously-included directories found matching 'docs/_build'\n",
      "  \u001b[31m   \u001b[0m writing manifest file '/private/var/folders/cp/kx7p5wds2blfcg2r476pvyy80000gn/T/pip-modern-metadata-vs0f3yx9/aiohttp.egg-info/SOURCES.txt'\n",
      "  \u001b[31m   \u001b[0m creating '/private/var/folders/cp/kx7p5wds2blfcg2r476pvyy80000gn/T/pip-modern-metadata-vs0f3yx9/aiohttp.dist-info'\n",
      "  \u001b[31m   \u001b[0m error: invalid command 'bdist_wheel'\n",
      "  \u001b[31m   \u001b[0m \u001b[31m[end of output]\u001b[0m\n",
      "  \n",
      "  \u001b[1;35mnote\u001b[0m: This error originates from a subprocess, and is likely not a problem with pip.\n",
      "\u001b[?25h\u001b[1;31merror\u001b[0m: \u001b[1mmetadata-generation-failed\u001b[0m\n",
      "\n",
      "\u001b[31m×\u001b[0m Encountered error while generating package metadata.\n",
      "\u001b[31m╰─>\u001b[0m See above for output.\n",
      "\n",
      "\u001b[1;35mnote\u001b[0m: This is an issue with the package mentioned above, not pip.\n",
      "\u001b[1;36mhint\u001b[0m: See above for details.\n",
      "\n",
      "\u001b[1m[\u001b[0m\u001b[34;49mnotice\u001b[0m\u001b[1;39;49m]\u001b[0m\u001b[39;49m A new release of pip is available: \u001b[0m\u001b[31;49m24.0\u001b[0m\u001b[39;49m -> \u001b[0m\u001b[32;49m24.3.1\u001b[0m\n",
      "\u001b[1m[\u001b[0m\u001b[34;49mnotice\u001b[0m\u001b[1;39;49m]\u001b[0m\u001b[39;49m To update, run: \u001b[0m\u001b[32;49mpip install --upgrade pip\u001b[0m\n"
     ]
    }
   ],
   "source": [
    "!pip install rasa"
   ]
  },
  {
   "cell_type": "code",
   "execution_count": 5,
   "metadata": {},
   "outputs": [
    {
     "name": "stdout",
     "output_type": "stream",
     "text": [
      "Closest form match: Brokerage Representation Agreement Amendment - K0004\n"
     ]
    }
   ],
   "source": [
    "import difflib\n",
    "\n",
    "def find_closest_form(user_input, form_names):\n",
    "    \"\"\"\n",
    "    Matches the user's input to the closest form name in the list.\n",
    "    \n",
    "    :param user_input: String input from the user.\n",
    "    :param form_names: List of form names to match against.\n",
    "    :return: Closest form name.\n",
    "    \"\"\"\n",
    "    closest_match = difflib.get_close_matches(user_input, form_names, n=1, cutoff=0.1)\n",
    "    return closest_match[0] if closest_match else None\n",
    "\n",
    "# Example form names\n",
    "form_names = [\n",
    "    \"Addendum Lease - K1384\",\n",
    "    \"Addendum Sale - K1117\",\n",
    "    \"Brokerage Representation Agreement Amendment - K0004\"\n",
    "]\n",
    "\n",
    "# Example user input\n",
    "user_input = \"Brokerage Representation Agreement\"\n",
    "\n",
    "# Find the closest form name\n",
    "closest_form = find_closest_form(user_input, form_names)\n",
    "\n",
    "if closest_form:\n",
    "    print(f\"Closest form match: {closest_form}\")\n",
    "else:\n",
    "    print(\"No close match found.\")\n"
   ]
  },
  {
   "cell_type": "code",
   "execution_count": null,
   "metadata": {},
   "outputs": [],
   "source": []
  },
  {
   "cell_type": "code",
   "execution_count": null,
   "metadata": {},
   "outputs": [],
   "source": []
  },
  {
   "cell_type": "code",
   "execution_count": null,
   "metadata": {},
   "outputs": [],
   "source": []
  }
 ],
 "metadata": {
  "kernelspec": {
   "display_name": "venv",
   "language": "python",
   "name": "python3"
  },
  "language_info": {
   "codemirror_mode": {
    "name": "ipython",
    "version": 3
   },
   "file_extension": ".py",
   "mimetype": "text/x-python",
   "name": "python",
   "nbconvert_exporter": "python",
   "pygments_lexer": "ipython3",
   "version": "3.8.0"
  }
 },
 "nbformat": 4,
 "nbformat_minor": 2
}
